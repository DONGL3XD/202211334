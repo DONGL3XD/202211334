{
 "cells": [
  {
   "cell_type": "code",
   "execution_count": 2,
   "metadata": {},
   "outputs": [
    {
     "name": "stdout",
     "output_type": "stream",
     "text": [
      "면적 : 31.400000000000002\n",
      "둘레 : 78.5\n"
     ]
    }
   ],
   "source": [
    "pi = 3.14\n",
    "rad = 5\n",
    "\n",
    "print(\"둘레 : \" + str(2 * pi * rad))\n",
    "print(\"면적 : \" + str(rad * rad *  pi))"
   ]
  },
  {
   "cell_type": "code",
   "execution_count": 4,
   "metadata": {},
   "outputs": [
    {
     "name": "stdout",
     "output_type": "stream",
     "text": [
      "correct\n"
     ]
    }
   ],
   "source": [
    "num1 = 1 + 3j\n",
    "num2 = 2 + 1j\n",
    "\n",
    "if (num1 + num2 == (3 + 4j)) :\n",
    "    print(\"correct\")"
   ]
  },
  {
   "cell_type": "code",
   "execution_count": 1,
   "metadata": {},
   "outputs": [
    {
     "name": "stdout",
     "output_type": "stream",
     "text": [
      "1\n",
      "[1, 2, 3.14, 4, 5]\n",
      "[1, 2]\n",
      "[1, 3.14, 5]\n",
      "[2, 4]\n",
      "[1, 2, 3.14, 4]\n",
      "[3.14, 4, 5]\n",
      "[5, 4, 3.14, 2, 1]\n"
     ]
    }
   ],
   "source": [
    "nums = [1, 2, 3.14, 4, 5]\n",
    "\n",
    "print(nums[0])\n",
    "print(nums[:])\n",
    "print(nums[0:2])\n",
    "print(nums[::2])\n",
    "print(nums[1::2])\n",
    "print(nums[:-1])\n",
    "print(nums[-3:])\n",
    "print(nums[::-1])"
   ]
  },
  {
   "cell_type": "code",
   "execution_count": 6,
   "metadata": {},
   "outputs": [
    {
     "name": "stdout",
     "output_type": "stream",
     "text": [
      "[1, 2, 3, 4]\n",
      "[1, 2, 3, 4, [5, 6]]\n",
      "[1, 2, 3, 4]\n",
      "['a', 'b', 'c']\n",
      "['123', 'abc', 'you need python']\n",
      "['you need python', 'abc', '123']\n",
      "2\n",
      "0\n",
      "[4, 1, 2, 3]\n",
      "[4, 1, 2, 5, 3]\n",
      "[1, 2, 1, 2, 3]\n",
      "[1, 2, 1, 2]\n"
     ]
    }
   ],
   "source": [
    "a = [1, 2, 3]\n",
    "a.append(4)\n",
    "print(a)\n",
    "\n",
    "a.append([5, 6])\n",
    "print(a)\n",
    "\n",
    "a = [1, 2, 3, 4]\n",
    "a.sort()\n",
    "print(a)\n",
    "\n",
    "a = [\"a\", \"b\", \"c\"]\n",
    "a.sort()\n",
    "print(a)\n",
    "\n",
    "a = [\"abc\", \"123\", \"you need python\"]\n",
    "a.sort()\n",
    "print(a)\n",
    "\n",
    "a.reverse()\n",
    "print(a)\n",
    "\n",
    "a = [1, 2, 3]\n",
    "print(a.index(3))\n",
    "print(a.index(1))\n",
    "\n",
    "a = [1, 2, 3]\n",
    "a.insert(0, 4)\n",
    "print(a)\n",
    "\n",
    "a.insert(3, 5)\n",
    "print(a)\n",
    "\n",
    "a = [1, 2, 3, 1,  2, 3]\n",
    "a.remove(3)\n",
    "print(a)\n",
    "\n",
    "a.remove(3)\n",
    "print(a)"
   ]
  },
  {
   "cell_type": "code",
   "execution_count": 7,
   "metadata": {},
   "outputs": [
    {
     "name": "stdout",
     "output_type": "stream",
     "text": [
      "['pi', 'e']\n",
      "[3.14, 2.7]\n",
      "[('pi', 3.14), ('e', 2.7)]\n",
      "2.7\n"
     ]
    }
   ],
   "source": [
    "d = {\n",
    "  \"pi\": 3.14,\n",
    "  \"e\": 2.7\n",
    "}\n",
    "\n",
    "k = d.keys()\n",
    "k_list = list(k)\n",
    "print(k_list)\n",
    "\n",
    "v = d.values()\n",
    "v_list = list(v)\n",
    "print(v_list)\n",
    "\n",
    "i = d.items()\n",
    "i_list = list(i)\n",
    "print(i_list)\n",
    "\n",
    "g = d.get(\"e\")\n",
    "print(g)"
   ]
  },
  {
   "cell_type": "code",
   "execution_count": 12,
   "metadata": {},
   "outputs": [
    {
     "name": "stdout",
     "output_type": "stream",
     "text": [
      "[5, 4, 3, 2, 1]\n",
      "['ghi', 'def', 'abc']\n"
     ]
    }
   ],
   "source": [
    "nums = [1, 2, 3, 4, 5]\n",
    "strs = [\"abc\", \"def\", \"ghi\"]\n",
    "\n",
    "nums.reverse()\n",
    "strs.reverse()\n",
    "\n",
    "print(nums)\n",
    "print(strs)"
   ]
  }
 ],
 "metadata": {
  "kernelspec": {
   "display_name": "Python 3",
   "language": "python",
   "name": "python3"
  },
  "language_info": {
   "codemirror_mode": {
    "name": "ipython",
    "version": 3
   },
   "file_extension": ".py",
   "mimetype": "text/x-python",
   "name": "python",
   "nbconvert_exporter": "python",
   "pygments_lexer": "ipython3",
   "version": "3.10.10"
  },
  "orig_nbformat": 4
 },
 "nbformat": 4,
 "nbformat_minor": 2
}
